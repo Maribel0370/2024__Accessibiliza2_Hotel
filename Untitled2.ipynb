{
  "nbformat": 4,
  "nbformat_minor": 0,
  "metadata": {
    "colab": {
      "provenance": [],
      "authorship_tag": "ABX9TyPcyc/gwhgBQQqoUVWnDqKw",
      "include_colab_link": true
    },
    "kernelspec": {
      "name": "python3",
      "display_name": "Python 3"
    },
    "language_info": {
      "name": "python"
    }
  },
  "cells": [
    {
      "cell_type": "markdown",
      "metadata": {
        "id": "view-in-github",
        "colab_type": "text"
      },
      "source": [
        "<a href=\"https://colab.research.google.com/github/Maribel0370/2024__Accessibiliza2_Hotel/blob/main/Untitled2.ipynb\" target=\"_parent\"><img src=\"https://colab.research.google.com/assets/colab-badge.svg\" alt=\"Open In Colab\"/></a>"
      ]
    },
    {
      "cell_type": "code",
      "execution_count": null,
      "metadata": {
        "colab": {
          "base_uri": "https://localhost:8080/"
        },
        "id": "DkkG5T_Z0Jev",
        "outputId": "5ba1ed72-9a51-4ecf-d611-8c36a11ffd59"
      },
      "outputs": [
        {
          "output_type": "stream",
          "name": "stdout",
          "text": [
            "¡Hola! Soy un chatbot que puede aprender nuevas respuestas. Escribe 'adiós' para salir.\n",
            "Tú: hola\n",
            "Chatbot: ¡Hola! ¿Cómo puedo ayudarte hoy?\n",
            "Tú: ¿Cómo estás?\n",
            "Chatbot: Estoy bien, gracias por preguntar. ¿Y tú?\n",
            "Tú: Soy Maribel\n",
            "Chatbot: No conozco la respuesta a eso. ¿Me enseñas qué debería responder?\n",
            "¿Qué debería responder a esta pregunta?: ¿Como te llamas?\n",
            "He aprendido una nueva respuesta para: 'Soy Maribel'\n",
            "Tú: Gracias\n",
            "Chatbot: No conozco la respuesta a eso. ¿Me enseñas qué debería responder?\n",
            "¿Qué debería responder a esta pregunta?: Adios\n",
            "He aprendido una nueva respuesta para: 'Gracias'\n",
            "Tú: Adi\n",
            "Chatbot: No conozco la respuesta a eso. ¿Me enseñas qué debería responder?\n",
            "¿Qué debería responder a esta pregunta?: Adiós, que tengas un buen día\n",
            "He aprendido una nueva respuesta para: 'Adi'\n"
          ]
        }
      ],
      "source": [
        "# Diccionario para almacenar las preguntas y respuestas aprendidas\n",
        "memoria_chatbot = {}\n",
        "\n",
        "# Definir las respuestas predefinidas del chatbot\n",
        "def chatbot_respuesta(mensaje):\n",
        "    mensaje = mensaje.lower()\n",
        "\n",
        "    # Revisar si la pregunta ya está en la memoria\n",
        "    if mensaje in memoria_chatbot:\n",
        "        return memoria_chatbot[mensaje]\n",
        "\n",
        "    # Respuestas predefinidas\n",
        "    if \"hola\" in mensaje:\n",
        "        return \"¡Hola! ¿Cómo puedo ayudarte hoy?\"\n",
        "    elif \"adiós\" in mensaje:\n",
        "        return \"Adiós, que tengas un buen día.\"\n",
        "    elif \"cómo estás\" in mensaje or \"qué tal\" in mensaje:\n",
        "        return \"Estoy bien, gracias por preguntar. ¿Y tú?\"\n",
        "    elif \"tu nombre\" in mensaje:\n",
        "        return \"Soy un chatbot básico. ¿Cómo te llamas tú?\"\n",
        "    else:\n",
        "        return \"No conozco la respuesta a eso. ¿Me enseñas qué debería responder?\"\n",
        "# Función para que el chatbot aprenda nuevas respuestas\n",
        "def chatbot_aprender(pregunta, respuesta):\n",
        "    memoria_chatbot[pregunta.lower()] = respuesta\n",
        "    print(f\"He aprendido una nueva respuesta para: '{pregunta}'\")\n",
        "\n",
        "# Ciclo de conversación\n",
        "def iniciar_chatbot():\n",
        "    print(\"¡Hola! Soy un chatbot que puede aprender nuevas respuestas. Escribe 'adiós' para salir.\")\n",
        "\n",
        "    while True:\n",
        "        mensaje_usuario = input(\"Tú: \")\n",
        "\n",
        "        if mensaje_usuario.lower() == \"adiós\":\n",
        "            print(\"Chatbot: Adiós, ¡hasta la próxima!\")\n",
        "            break\n",
        "\n",
        "        # Obtener la respuesta del chatbot\n",
        "        respuesta = chatbot_respuesta(mensaje_usuario)\n",
        "        print(f\"Chatbot: {respuesta}\")\n",
        "\n",
        "        # Si el chatbot no conoce la respuesta\n",
        "        if \"No conozco la respuesta\" in respuesta:\n",
        "            nueva_respuesta = input(\"¿Qué debería responder a esta pregunta?: \")\n",
        "            chatbot_aprender(mensaje_usuario, nueva_respuesta)\n",
        "\n",
        "# Iniciar el chatbot\n",
        "iniciar_chatbot()\n"
      ]
    }
  ]
}