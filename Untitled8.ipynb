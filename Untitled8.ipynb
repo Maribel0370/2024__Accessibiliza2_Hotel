{
  "nbformat": 4,
  "nbformat_minor": 0,
  "metadata": {
    "colab": {
      "provenance": [],
      "authorship_tag": "ABX9TyNl1GVkbrHm6X2qGsH+Qnz/",
      "include_colab_link": true
    },
    "kernelspec": {
      "name": "python3",
      "display_name": "Python 3"
    },
    "language_info": {
      "name": "python"
    }
  },
  "cells": [
    {
      "cell_type": "markdown",
      "metadata": {
        "id": "view-in-github",
        "colab_type": "text"
      },
      "source": [
        "<a href=\"https://colab.research.google.com/github/Maribel0370/2024__Accessibiliza2_Hotel/blob/main/Untitled8.ipynb\" target=\"_parent\"><img src=\"https://colab.research.google.com/assets/colab-badge.svg\" alt=\"Open In Colab\"/></a>"
      ]
    },
    {
      "cell_type": "code",
      "source": [],
      "metadata": {
        "id": "KCtEggY6D6Uq"
      },
      "execution_count": 69,
      "outputs": []
    },
    {
      "cell_type": "code",
      "execution_count": 70,
      "metadata": {
        "id": "ZW_9KifvDBld"
      },
      "outputs": [],
      "source": [
        "import tensorflow as tf\n",
        "from tensorflow.keras.datasets import mnist\n",
        "import numpy as np\n",
        "from tensorflow.keras.utils import to_categorical\n",
        "import matplotlib.pyplot as plt\n",
        "from tensorflow.keras.preprocessing.image import ImageDataGenerator\n",
        "\n",
        "\n",
        "\n",
        "\n"
      ]
    },
    {
      "cell_type": "code",
      "source": [
        "(X_entrenamiento, Y_entrenamiento), (X_pruebas, Y_pruebas) = mnist.load_data()"
      ],
      "metadata": {
        "id": "aaKnOm3gEtfO"
      },
      "execution_count": 71,
      "outputs": []
    },
    {
      "cell_type": "code",
      "source": [
        "# Hacer 'one-hot encoding' de las etiquetas\n",
        "Y_entrenamiento = to_categorical(Y_entrenamiento)\n",
        "Y_pruebas = to_categorical(Y_pruebas)\n"
      ],
      "metadata": {
        "id": "OLrk_OQkEwpX"
      },
      "execution_count": 72,
      "outputs": []
    },
    {
      "cell_type": "code",
      "source": [
        "# Convertir a flotante y normalizar\n",
        "X_entrenamiento = X_entrenamiento.astype('float32') / 255\n",
        "X_pruebas = X_pruebas.astype('float32') / 255"
      ],
      "metadata": {
        "id": "opY3ZgEuFSIb"
      },
      "execution_count": 73,
      "outputs": []
    },
    {
      "cell_type": "code",
      "source": [
        "# Configurar el aumento de datos\n",
        "rango_rotacion = 30\n",
        "mov_ancho = 0.25\n",
        "mov_alto = 0.25\n",
        "rango_acercamiento = [0.5, 1.5]\n",
        "\n",
        "datagen = ImageDataGenerator(\n",
        "    rotation_range = rango_rotacion,\n",
        "    width_shift_range = mov_ancho,\n",
        "    height_shift_range = mov_alto,\n",
        "    zoom_range = rango_acercamiento\n",
        ")\n",
        "\n",
        "datagen.fit(X_entrenamiento)"
      ],
      "metadata": {
        "colab": {
          "base_uri": "https://localhost:8080/",
          "height": 309
        },
        "id": "ynbQv7fJPEh0",
        "outputId": "0b4578b2-9ae8-4bd5-e659-e99eae65bd48"
      },
      "execution_count": 74,
      "outputs": [
        {
          "output_type": "error",
          "ename": "ValueError",
          "evalue": "Input to `.fit()` should have rank 4. Got array with shape: (60000, 28, 28)",
          "traceback": [
            "\u001b[0;31m---------------------------------------------------------------------------\u001b[0m",
            "\u001b[0;31mValueError\u001b[0m                                Traceback (most recent call last)",
            "\u001b[0;32m<ipython-input-74-b224f67d3d55>\u001b[0m in \u001b[0;36m<cell line: 14>\u001b[0;34m()\u001b[0m\n\u001b[1;32m     12\u001b[0m )\n\u001b[1;32m     13\u001b[0m \u001b[0;34m\u001b[0m\u001b[0m\n\u001b[0;32m---> 14\u001b[0;31m \u001b[0mdatagen\u001b[0m\u001b[0;34m.\u001b[0m\u001b[0mfit\u001b[0m\u001b[0;34m(\u001b[0m\u001b[0mX_entrenamiento\u001b[0m\u001b[0;34m)\u001b[0m\u001b[0;34m\u001b[0m\u001b[0;34m\u001b[0m\u001b[0m\n\u001b[0m",
            "\u001b[0;32m/usr/local/lib/python3.10/dist-packages/keras/src/legacy/preprocessing/image.py\u001b[0m in \u001b[0;36mfit\u001b[0;34m(self, x, augment, rounds, seed)\u001b[0m\n\u001b[1;32m   1488\u001b[0m         \u001b[0mx\u001b[0m \u001b[0;34m=\u001b[0m \u001b[0mnp\u001b[0m\u001b[0;34m.\u001b[0m\u001b[0masarray\u001b[0m\u001b[0;34m(\u001b[0m\u001b[0mx\u001b[0m\u001b[0;34m,\u001b[0m \u001b[0mdtype\u001b[0m\u001b[0;34m=\u001b[0m\u001b[0mself\u001b[0m\u001b[0;34m.\u001b[0m\u001b[0mdtype\u001b[0m\u001b[0;34m)\u001b[0m\u001b[0;34m\u001b[0m\u001b[0;34m\u001b[0m\u001b[0m\n\u001b[1;32m   1489\u001b[0m         \u001b[0;32mif\u001b[0m \u001b[0mx\u001b[0m\u001b[0;34m.\u001b[0m\u001b[0mndim\u001b[0m \u001b[0;34m!=\u001b[0m \u001b[0;36m4\u001b[0m\u001b[0;34m:\u001b[0m\u001b[0;34m\u001b[0m\u001b[0;34m\u001b[0m\u001b[0m\n\u001b[0;32m-> 1490\u001b[0;31m             raise ValueError(\n\u001b[0m\u001b[1;32m   1491\u001b[0m                 \u001b[0;34m\"Input to `.fit()` should have rank 4. Got array with shape: \"\u001b[0m\u001b[0;34m\u001b[0m\u001b[0;34m\u001b[0m\u001b[0m\n\u001b[1;32m   1492\u001b[0m                 \u001b[0;34m+\u001b[0m \u001b[0mstr\u001b[0m\u001b[0;34m(\u001b[0m\u001b[0mx\u001b[0m\u001b[0;34m.\u001b[0m\u001b[0mshape\u001b[0m\u001b[0;34m)\u001b[0m\u001b[0;34m\u001b[0m\u001b[0;34m\u001b[0m\u001b[0m\n",
            "\u001b[0;31mValueError\u001b[0m: Input to `.fit()` should have rank 4. Got array with shape: (60000, 28, 28)"
          ]
        }
      ]
    },
    {
      "cell_type": "code",
      "source": [
        "# Configurar el aumento de datos\n",
        "rango_rotacion = 30\n",
        "mov_ancho = 0.25\n",
        "mov_alto = 0.25\n",
        "rango_acercamiento = [0.5, 1.5]\n",
        "\n",
        "datagen = ImageDataGenerator(\n",
        "    rotation_range = rango_rotacion,\n",
        "    width_shift_range = mov_ancho,\n",
        "    height_shift_range = mov_alto,\n",
        "    zoom_range = rango_acercamiento\n",
        ")\n",
        "\n",
        "datagen.fit(X_entrenamiento)"
      ],
      "metadata": {
        "id": "1xxmZNLbGmRW"
      },
      "execution_count": null,
      "outputs": []
    },
    {
      "cell_type": "code",
      "source": [],
      "metadata": {
        "id": "TM84FgMAG2AR"
      },
      "execution_count": null,
      "outputs": []
    }
  ]
}