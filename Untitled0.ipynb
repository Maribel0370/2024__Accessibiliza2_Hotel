{
  "nbformat": 4,
  "nbformat_minor": 0,
  "metadata": {
    "colab": {
      "provenance": [],
      "authorship_tag": "ABX9TyOEOmUKJt0WiRRL5iGqBNM/",
      "include_colab_link": true
    },
    "kernelspec": {
      "name": "python3",
      "display_name": "Python 3"
    },
    "language_info": {
      "name": "python"
    }
  },
  "cells": [
    {
      "cell_type": "markdown",
      "metadata": {
        "id": "view-in-github",
        "colab_type": "text"
      },
      "source": [
        "<a href=\"https://colab.research.google.com/github/Maribel0370/2024__Accessibiliza2_Hotel/blob/main/Untitled0.ipynb\" target=\"_parent\"><img src=\"https://colab.research.google.com/assets/colab-badge.svg\" alt=\"Open In Colab\"/></a>"
      ]
    },
    {
      "cell_type": "code",
      "source": [],
      "metadata": {
        "id": "WSJ0wk6tggNw"
      },
      "execution_count": null,
      "outputs": []
    },
    {
      "cell_type": "code",
      "execution_count": 7,
      "metadata": {
        "id": "cHFy61K4csYJ"
      },
      "outputs": [],
      "source": [
        "import tensorflow as tf\n",
        "import numpy as np\n"
      ]
    },
    {
      "cell_type": "code",
      "source": [
        "celsius = np.array([-40, -10, 0, 8, 15, 22, 38], dtype=float)\n",
        "fahrenheit = np.array([-40, 14, 32, 46, 59, 72, 100], dtype=float)"
      ],
      "metadata": {
        "id": "3xezsrS1jvdb"
      },
      "execution_count": 8,
      "outputs": []
    },
    {
      "cell_type": "code",
      "source": [
        "# Definición del modelo con capas ocultas\n",
        "entrada = tf.keras.layers.Input(shape=[1])  # Definir la entrada\n",
        "oculta1 = tf.keras.layers.Dense(units=3)(entrada)\n",
        "oculta2 = tf.keras.layers.Dense(units=3)(oculta1)\n",
        "salida = tf.keras.layers.Dense(units=1)(oculta2)\n",
        "\n",
        "# Crear el modelo usando la entrada y la salida especificada\n",
        "modelo = tf.keras.Model(inputs=entrada, outputs=salida)"
      ],
      "metadata": {
        "id": "ZKDlSdxnj5z4"
      },
      "execution_count": 9,
      "outputs": []
    },
    {
      "cell_type": "code",
      "source": [
        "modelo.compile(\n",
        "    optimizer=tf.keras.optimizers.Adam(0.1),\n",
        "    loss='mean_squared_error'\n",
        ")\n"
      ],
      "metadata": {
        "id": "pOSsiBgGkEnk"
      },
      "execution_count": 21,
      "outputs": []
    },
    {
      "cell_type": "code",
      "source": [
        "# Realizar una predicción\n",
        "print(\"Hagamos una predicción!\")\n",
        "# Convert the input to a NumPy array\n",
        "resultado = modelo.predict(np.array([100.0]))\n",
        "print(\"El resultado es \" + str(resultado) + \" fahrenheit!\")"
      ],
      "metadata": {
        "colab": {
          "base_uri": "https://localhost:8080/"
        },
        "id": "j1WcmNqTnd02",
        "outputId": "f13b3774-76b0-480c-f8f8-2bd285830f20"
      },
      "execution_count": 18,
      "outputs": [
        {
          "output_type": "stream",
          "name": "stdout",
          "text": [
            "Hagamos una predicción!\n",
            "\u001b[1m1/1\u001b[0m \u001b[32m━━━━━━━━━━━━━━━━━━━━\u001b[0m\u001b[37m\u001b[0m \u001b[1m0s\u001b[0m 205ms/step\n",
            "El resultado es [[-146.24109]] fahrenheit!\n"
          ]
        }
      ]
    },
    {
      "cell_type": "code",
      "source": [
        "# Ebtrenaniento del modelo\n",
        "print(\"Comenzando entrenamiento...\")\n",
        "historial = modelo.fit(celsius, fahrenheit, epochs=1000, verbose=False)\n",
        "print(\"Modelo entrenado!\")"
      ],
      "metadata": {
        "colab": {
          "base_uri": "https://localhost:8080/"
        },
        "id": "yEQqXGJLoJAo",
        "outputId": "056abbde-21ad-4501-fbc3-f9d8d9ae5b19"
      },
      "execution_count": 23,
      "outputs": [
        {
          "output_type": "stream",
          "name": "stdout",
          "text": [
            "Comenzando entrenamiento...\n",
            "Modelo entrenado!\n"
          ]
        }
      ]
    },
    {
      "cell_type": "code",
      "source": [
        "# Visualizacion de la pérdida durante el entrenamiento\n",
        "import matplotlib.pyplot as plt\n",
        "plt.xlabel(\"#época\")\n",
        "plt.ylabel(\"Magnitud de pérdida\")\n",
        "plt.plot(historial.history[\"loss\"])\n"
      ],
      "metadata": {
        "colab": {
          "base_uri": "https://localhost:8080/",
          "height": 468
        },
        "id": "rIDtXkCZo8bW",
        "outputId": "782d5c72-dfb9-4b1d-ca09-4f6819100145"
      },
      "execution_count": 24,
      "outputs": [
        {
          "output_type": "execute_result",
          "data": {
            "text/plain": [
              "[<matplotlib.lines.Line2D at 0x7847b0285510>]"
            ]
          },
          "metadata": {},
          "execution_count": 24
        },
        {
          "output_type": "display_data",
          "data": {
            "text/plain": [
              "<Figure size 640x480 with 1 Axes>"
            ],
            "image/png": "[encoded data removed]"
          },
          "metadata": {}
        }
      ]
    },
    {
      "cell_type": "code",
      "source": [
        "# Realizar una predicción\n",
        "print(\"Hagamos una predicción!\")\n",
        "#Convert the input to a NumPy array\n",
        "resultado = modelo.predict(np.array([100.0]))\n",
        "print(\"El resultado es \" + str(resultado) + \"fahrenheit!\")\n"
      ],
      "metadata": {
        "colab": {
          "base_uri": "https://localhost:8080/"
        },
        "id": "H_GzmUaCph_3",
        "outputId": "c063a204-fd5a-47a1-d9b6-2493673ff052"
      },
      "execution_count": 25,
      "outputs": [
        {
          "output_type": "stream",
          "name": "stdout",
          "text": [
            "Hagamos una predicción!\n",
            "\u001b[1m1/1\u001b[0m \u001b[32m━━━━━━━━━━━━━━━━━━━━\u001b[0m\u001b[37m\u001b[0m \u001b[1m0s\u001b[0m 57ms/step\n",
            "El resultado es [[211.7474]]fahrenheit!\n"
          ]
        }
      ]
    },
    {
      "cell_type": "code",
      "source": [
        "#imprimir las variables internas del modelo\n",
        "print(\"Variables internas del modelo\")\n",
        "print(modelo.layers[1].get_weights())\n",
        "print(modelo.layers[2].get_weights())\n",
        "print(modelo.layers[3].get_weights())"
      ],
      "metadata": {
        "colab": {
          "base_uri": "https://localhost:8080/"
        },
        "id": "2NBHblzrnhvR",
        "outputId": "6a6c9870-59cd-4657-e255-c96ee1ef6e1d"
      },
      "execution_count": 19,
      "outputs": [
        {
          "output_type": "stream",
          "name": "stdout",
          "text": [
            "Variables internas del modelo\n",
            "[array([[0.4633522 , 0.21109903, 0.8643509 ]], dtype=float32), array([0., 0., 0.], dtype=float32)]\n",
            "[array([[ 0.20720291, -0.04721117, -0.4045174 ],\n",
            "       [-0.08887148,  0.49198318,  0.8787787 ],\n",
            "       [ 0.5280807 ,  0.4902892 ,  0.8117795 ]], dtype=float32), array([0., 0., 0.], dtype=float32)]\n",
            "[array([[-0.7163187],\n",
            "       [-0.9900939],\n",
            "       [-0.8279706]], dtype=float32), array([0.], dtype=float32)]\n"
          ]
        }
      ]
    },
    {
      "cell_type": "code",
      "source": [
        "#imprimir las variables internas del modelo\n",
        "print(\"Variables internas del modelo\")\n",
        "print(modelo.layers[1].get_weights())\n",
        "print(modelo.layers[2].get_weights())\n",
        "print(modelo.layers[3].get_weights())"
      ],
      "metadata": {
        "colab": {
          "base_uri": "https://localhost:8080/"
        },
        "id": "y0WnPXeLnn6m",
        "outputId": "c72c009e-e73e-4850-ac5b-a05710bf4ad9"
      },
      "execution_count": 20,
      "outputs": [
        {
          "output_type": "stream",
          "name": "stdout",
          "text": [
            "Variables internas del modelo\n",
            "[array([[0.4633522 , 0.21109903, 0.8643509 ]], dtype=float32), array([0., 0., 0.], dtype=float32)]\n",
            "[array([[ 0.20720291, -0.04721117, -0.4045174 ],\n",
            "       [-0.08887148,  0.49198318,  0.8787787 ],\n",
            "       [ 0.5280807 ,  0.4902892 ,  0.8117795 ]], dtype=float32), array([0., 0., 0.], dtype=float32)]\n",
            "[array([[-0.7163187],\n",
            "       [-0.9900939],\n",
            "       [-0.8279706]], dtype=float32), array([0.], dtype=float32)]\n"
          ]
        }
      ]
    }
  ]
}