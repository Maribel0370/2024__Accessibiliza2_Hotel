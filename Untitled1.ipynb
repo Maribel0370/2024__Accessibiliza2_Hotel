{
  "nbformat": 4,
  "nbformat_minor": 0,
  "metadata": {
    "colab": {
      "provenance": [],
      "authorship_tag": "ABX9TyPk9NAUS/f4rwYo4S5ahVsS",
      "include_colab_link": true
    },
    "kernelspec": {
      "name": "python3",
      "display_name": "Python 3"
    },
    "language_info": {
      "name": "python"
    }
  },
  "cells": [
    {
      "cell_type": "markdown",
      "metadata": {
        "id": "view-in-github",
        "colab_type": "text"
      },
      "source": [
        "<a href=\"https://colab.research.google.com/github/Maribel0370/2024__Accessibiliza2_Hotel/blob/main/Untitled1.ipynb\" target=\"_parent\"><img src=\"https://colab.research.google.com/assets/colab-badge.svg\" alt=\"Open In Colab\"/></a>"
      ]
    },
    {
      "cell_type": "code",
      "execution_count": 1,
      "metadata": {
        "id": "HqNAymiItfKn"
      },
      "outputs": [],
      "source": [
        "import random"
      ]
    },
    {
      "cell_type": "code",
      "source": [
        "def adivina_el_numero():\n",
        "  numero_secreto = random.randint(1,20)\n",
        "  intentos = 0\n",
        "  print(\"Bienvenido al juego de Adivina el Número!\")\n",
        "\n",
        "  while True:\n",
        "    intento = int(input(\"Introduce tu intento: \"))\n",
        "    intentos +=1\n",
        "\n",
        "    if intento < numero_secreto:\n",
        "      print(\"Demasiado bajo. Inténtalo de nuevo.\")\n",
        "    elif intento > numero_secreto:\n",
        "      print(\"Demasiado alto. Inténtalo de nuevo.\")\n",
        "    else:\n",
        "      print(f\"¡Felicidades! Adivinaste el número en {intentos} intentos.\")\n",
        "      break\n",
        "\n",
        "adivina_el_numero()"
      ],
      "metadata": {
        "colab": {
          "base_uri": "https://localhost:8080/"
        },
        "id": "vyy0CVlltutH",
        "outputId": "7db244ff-0c74-4327-a9bb-daaf836bea53"
      },
      "execution_count": null,
      "outputs": [
        {
          "output_type": "stream",
          "name": "stdout",
          "text": [
            "Bienvenido al juego de Adivina el Número!\n"
          ]
        }
      ]
    },
    {
      "cell_type": "code",
      "source": [],
      "metadata": {
        "id": "i9Yy1QIDztcS"
      },
      "execution_count": null,
      "outputs": []
    }
  ]
}